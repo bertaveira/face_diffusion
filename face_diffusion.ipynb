{
 "cells": [
  {
   "cell_type": "markdown",
   "metadata": {
    "id": "TXzIdLauO83W",
    "pycharm": {
     "name": "#%% md\n"
    }
   },
   "source": [
    "# Diffusion Project\n",
    "The objective of this project is to explore the latest developments in diffusion models. For that we will base ourselfs in training a small diffusion model to generate a single class of objects."
   ]
  },
  {
   "cell_type": "markdown",
   "metadata": {
    "id": "dgaOBYT9PXad",
    "pycharm": {
     "name": "#%% md\n"
    }
   },
   "source": [
    "# 1. Setup\n",
    "We will start by installing and importing all libraries as well as define some helpfull functions."
   ]
  },
  {
   "cell_type": "code",
   "execution_count": 47,
   "metadata": {
    "colab": {
     "base_uri": "https://localhost:8080/"
    },
    "executionInfo": {
     "elapsed": 15788,
     "status": "ok",
     "timestamp": 1666096360077,
     "user": {
      "displayName": "Bernardo Taveira",
      "userId": "12200582985174515986"
     },
     "user_tz": -120
    },
    "id": "mEWBDiOrmUl1",
    "outputId": "ae520ac5-2810-4dc6-ffda-830334cdaa27",
    "pycharm": {
     "name": "#%%\n"
    }
   },
   "outputs": [
    {
     "name": "stdout",
     "output_type": "stream",
     "text": [
      "Requirement already satisfied: datasets in /home/cfs/mambaforge/envs/dml/lib/python3.9/site-packages (2.5.1)\n",
      "Requirement already satisfied: einops in /home/cfs/mambaforge/envs/dml/lib/python3.9/site-packages (0.4.1)\n",
      "Requirement already satisfied: numpy>=1.17 in /home/cfs/mambaforge/envs/dml/lib/python3.9/site-packages (from datasets) (1.22.3)\n",
      "Requirement already satisfied: requests>=2.19.0 in /home/cfs/mambaforge/envs/dml/lib/python3.9/site-packages (from datasets) (2.28.1)\n",
      "Requirement already satisfied: tqdm>=4.62.1 in /home/cfs/mambaforge/envs/dml/lib/python3.9/site-packages (from datasets) (4.64.0)\n",
      "Requirement already satisfied: huggingface-hub<1.0.0,>=0.1.0 in /home/cfs/mambaforge/envs/dml/lib/python3.9/site-packages (from datasets) (0.10.0)\n",
      "Requirement already satisfied: dill<0.3.6 in /home/cfs/mambaforge/envs/dml/lib/python3.9/site-packages (from datasets) (0.3.5.1)\n",
      "Requirement already satisfied: multiprocess in /home/cfs/mambaforge/envs/dml/lib/python3.9/site-packages (from datasets) (0.70.13)\n",
      "Requirement already satisfied: aiohttp in /home/cfs/mambaforge/envs/dml/lib/python3.9/site-packages (from datasets) (3.8.3)\n",
      "Requirement already satisfied: packaging in /home/cfs/mambaforge/envs/dml/lib/python3.9/site-packages (from datasets) (21.3)\n",
      "Requirement already satisfied: fsspec[http]>=2021.11.1 in /home/cfs/mambaforge/envs/dml/lib/python3.9/site-packages (from datasets) (2022.8.2)\n",
      "Requirement already satisfied: pyarrow>=6.0.0 in /home/cfs/mambaforge/envs/dml/lib/python3.9/site-packages (from datasets) (9.0.0)\n",
      "Requirement already satisfied: responses<0.19 in /home/cfs/mambaforge/envs/dml/lib/python3.9/site-packages (from datasets) (0.18.0)\n",
      "Requirement already satisfied: xxhash in /home/cfs/mambaforge/envs/dml/lib/python3.9/site-packages (from datasets) (3.0.0)\n",
      "Requirement already satisfied: pandas in /home/cfs/mambaforge/envs/dml/lib/python3.9/site-packages (from datasets) (1.4.3)\n",
      "Requirement already satisfied: yarl<2.0,>=1.0 in /home/cfs/mambaforge/envs/dml/lib/python3.9/site-packages (from aiohttp->datasets) (1.8.1)\n",
      "Requirement already satisfied: aiosignal>=1.1.2 in /home/cfs/mambaforge/envs/dml/lib/python3.9/site-packages (from aiohttp->datasets) (1.2.0)\n",
      "Requirement already satisfied: attrs>=17.3.0 in /home/cfs/mambaforge/envs/dml/lib/python3.9/site-packages (from aiohttp->datasets) (21.4.0)\n",
      "Requirement already satisfied: charset-normalizer<3.0,>=2.0 in /home/cfs/mambaforge/envs/dml/lib/python3.9/site-packages (from aiohttp->datasets) (2.0.4)\n",
      "Requirement already satisfied: multidict<7.0,>=4.5 in /home/cfs/mambaforge/envs/dml/lib/python3.9/site-packages (from aiohttp->datasets) (6.0.2)\n",
      "Requirement already satisfied: frozenlist>=1.1.1 in /home/cfs/mambaforge/envs/dml/lib/python3.9/site-packages (from aiohttp->datasets) (1.3.1)\n",
      "Requirement already satisfied: async-timeout<5.0,>=4.0.0a3 in /home/cfs/mambaforge/envs/dml/lib/python3.9/site-packages (from aiohttp->datasets) (4.0.2)\n",
      "Requirement already satisfied: pyyaml>=5.1 in /home/cfs/mambaforge/envs/dml/lib/python3.9/site-packages (from huggingface-hub<1.0.0,>=0.1.0->datasets) (6.0)\n",
      "Requirement already satisfied: typing-extensions>=3.7.4.3 in /home/cfs/mambaforge/envs/dml/lib/python3.9/site-packages (from huggingface-hub<1.0.0,>=0.1.0->datasets) (4.3.0)\n",
      "Requirement already satisfied: filelock in /home/cfs/mambaforge/envs/dml/lib/python3.9/site-packages (from huggingface-hub<1.0.0,>=0.1.0->datasets) (3.8.0)\n",
      "Requirement already satisfied: pyparsing!=3.0.5,>=2.0.2 in /home/cfs/mambaforge/envs/dml/lib/python3.9/site-packages (from packaging->datasets) (3.0.9)\n",
      "Requirement already satisfied: idna<4,>=2.5 in /home/cfs/mambaforge/envs/dml/lib/python3.9/site-packages (from requests>=2.19.0->datasets) (3.3)\n",
      "Requirement already satisfied: urllib3<1.27,>=1.21.1 in /home/cfs/mambaforge/envs/dml/lib/python3.9/site-packages (from requests>=2.19.0->datasets) (1.26.11)\n",
      "Requirement already satisfied: certifi>=2017.4.17 in /home/cfs/mambaforge/envs/dml/lib/python3.9/site-packages (from requests>=2.19.0->datasets) (2022.9.14)\n",
      "Requirement already satisfied: python-dateutil>=2.8.1 in /home/cfs/mambaforge/envs/dml/lib/python3.9/site-packages (from pandas->datasets) (2.8.2)\n",
      "Requirement already satisfied: pytz>=2020.1 in /home/cfs/mambaforge/envs/dml/lib/python3.9/site-packages (from pandas->datasets) (2022.1)\n",
      "Requirement already satisfied: six>=1.5 in /home/cfs/mambaforge/envs/dml/lib/python3.9/site-packages (from python-dateutil>=2.8.1->pandas->datasets) (1.16.0)\n"
     ]
    }
   ],
   "source": [
    "!pip install datasets einops"
   ]
  },
  {
   "cell_type": "markdown",
   "metadata": {
    "id": "N0OQ0CUcPvto",
    "pycharm": {
     "name": "#%% md\n"
    }
   },
   "source": [
    "Then we import the necessary libraries"
   ]
  },
  {
   "cell_type": "code",
   "execution_count": 48,
   "metadata": {
    "executionInfo": {
     "elapsed": 2400,
     "status": "ok",
     "timestamp": 1666096362471,
     "user": {
      "displayName": "Bernardo Taveira",
      "userId": "12200582985174515986"
     },
     "user_tz": -120
    },
    "id": "j-YT9foAPzLe",
    "pycharm": {
     "name": "#%%\n"
    }
   },
   "outputs": [],
   "source": [
    "import os\n",
    "import math\n",
    "import pandas as pd\n",
    "import numpy as np\n",
    "import matplotlib.pyplot as plt\n",
    "from PIL import Image\n",
    "from inspect import isfunction\n",
    "from functools import partial\n",
    "from einops import rearrange\n",
    "from tqdm.auto import tqdm\n",
    "\n",
    "import torch\n",
    "from torch import nn, einsum\n",
    "import torch.nn.functional as F\n",
    "import torch.utils.data\n",
    "from torch.utils.data import DataLoader, Dataset\n",
    "from torchvision import transforms, datasets\n",
    "from datasets import load_dataset"
   ]
  },
  {
   "cell_type": "markdown",
   "metadata": {
    "id": "AohTuCkTZWS5",
    "pycharm": {
     "name": "#%% md\n"
    }
   },
   "source": [
    "\n",
    "\n",
    "---\n",
    "\n",
    "\n",
    "# 2. Data Handling\n",
    "\n",
    "Start off with some usefull shortcuts\n",
    "\n",
    "## 2.1 Transform\n",
    "The dataset we use has two problems:\n",
    "1. It consists on images (not tensors)\n",
    "2. The images have an unkown size that is not consistent or the one desired\n",
    "\n",
    "To fight these problems we define two transforms. One to go from a dataset image to a tensor, and another to reverse this process into an image we can visualize.\n",
    "\n",
    "Notice that for this we start by resizing and croping the image to a square of equal known witdh and height. Then we convert it into a tensor and finally make it vary from [-1,1]. This last step is usefull since we want to apply a zero mean distribution noise."
   ]
  },
  {
   "cell_type": "code",
   "execution_count": 49,
   "metadata": {
    "executionInfo": {
     "elapsed": 11,
     "status": "ok",
     "timestamp": 1666096371188,
     "user": {
      "displayName": "Bernardo Taveira",
      "userId": "12200582985174515986"
     },
     "user_tz": -120
    },
    "id": "w2TDwMV8q8YY",
    "pycharm": {
     "name": "#%%\n"
    }
   },
   "outputs": [],
   "source": [
    "img_size = 32\n",
    "\n",
    "transform = transforms.Compose([\n",
    "    transforms.Resize(img_size),\n",
    "    transforms.CenterCrop(img_size),\n",
    "    transforms.ToTensor(), # turn into Numpy array of shape HWC, divide by 255\n",
    "    transforms.Lambda(lambda t: (t * 2) - 1),\n",
    "])\n",
    "\n",
    "reverse_transform = transforms.Compose([\n",
    "     transforms.Lambda(lambda t: (t + 1) / 2),\n",
    "     transforms.Lambda(lambda t: t.permute(1, 2, 0)), # CHW to HWC\n",
    "     transforms.Lambda(lambda t: t * 255.),\n",
    "     transforms.Lambda(lambda t: t.numpy().astype(np.uint8)),\n",
    "     transforms.ToPILImage(),\n",
    "])"
   ]
  },
  {
   "cell_type": "markdown",
   "metadata": {
    "id": "Wji0U_bmbo_T",
    "pycharm": {
     "name": "#%% md\n"
    }
   },
   "source": [
    "## 2.2 Dataset"
   ]
  },
  {
   "cell_type": "markdown",
   "metadata": {
    "id": "ah4DGAswNw9w",
    "pycharm": {
     "name": "#%% md\n"
    }
   },
   "source": [
    "We start by defining a custom dataset class. This enables us to load the dataset from HuggingFace directly. We had a problem using the Trochvision dataset since the CelebA dataset is download from a Google Drive. Days where a lot of people were downloading it it would reach the Google drive quota and prevent us from downloading it more.\n",
    "\n",
    "Given this we used the HuggingFace tool to download it instead and use a custom dataset class to load the data into a PyTorch dataloader with trasnform.\n",
    "\n"
   ]
  },
  {
   "cell_type": "code",
   "execution_count": 50,
   "metadata": {
    "executionInfo": {
     "elapsed": 11,
     "status": "ok",
     "timestamp": 1666096371189,
     "user": {
      "displayName": "Bernardo Taveira",
      "userId": "12200582985174515986"
     },
     "user_tz": -120
    },
    "id": "5uCACO3OMPeU",
    "pycharm": {
     "name": "#%%\n"
    }
   },
   "outputs": [],
   "source": [
    "class ImageDataset(Dataset):\n",
    "    \"\"\"Face Landmarks dataset.\"\"\"\n",
    "\n",
    "    def __init__(self, data, transform=None):\n",
    "        \"\"\"\n",
    "        Args:\n",
    "            data (huggingFace dataset): dataset from huggingface\n",
    "            transform (callable, optional): Optional transform to be applied\n",
    "                on a image.\n",
    "        \"\"\"\n",
    "        self.data = data\n",
    "        self.transform = transform\n",
    "\n",
    "    def __len__(self):\n",
    "        return len(self.data)\n",
    "\n",
    "    def __getitem__(self, idx):\n",
    "\n",
    "        img = self.data[idx]['image']\n",
    "\n",
    "        if self.transform:\n",
    "            img = self.transform(idx)\n",
    "\n",
    "        return img"
   ]
  },
  {
   "cell_type": "markdown",
   "metadata": {
    "id": "IPVE6ljIp_VX",
    "pycharm": {
     "name": "#%% md\n"
    }
   },
   "source": [
    "Download data and create dataset. In ours case the dataset is already in the torchvision dataset library which makes it super easy to download."
   ]
  },
  {
   "cell_type": "code",
   "execution_count": 51,
   "metadata": {
    "colab": {
     "base_uri": "https://localhost:8080/",
     "height": 53
    },
    "executionInfo": {
     "elapsed": 10152,
     "status": "ok",
     "timestamp": 1666096791671,
     "user": {
      "displayName": "Bernardo Taveira",
      "userId": "12200582985174515986"
     },
     "user_tz": -120
    },
    "id": "FB6_10ePZbER",
    "outputId": "98ea1bfb-e94c-463e-e150-10a052abfc23",
    "pycharm": {
     "name": "#%%\n"
    }
   },
   "outputs": [
    {
     "data": {
      "text/plain": [
       "202599"
      ]
     },
     "metadata": {},
     "output_type": "display_data"
    }
   ],
   "source": [
    "# Load dataset using torchvision (drive quota can block it)\n",
    "#faces_data = datasets.CelebA(root='./', split='train', transform=transform, download=False)\n",
    "#faces_data = datasets.CelebA(root='./data/', split='train', transform=transform, download=True)\n",
    "faces_data = datasets.ImageFolder(root='./celeba/', transform=transform)\n",
    "\n",
    "#faces_data = load_dataset('huggan/CelebA-faces', split=\"train\")\n",
    "\n",
    "#faces_ds = ImageDataset(faces_data)\n",
    "display(len(faces_data))"
   ]
  },
  {
   "cell_type": "markdown",
   "metadata": {
    "id": "Ih6ZCTBBp8uF",
    "pycharm": {
     "name": "#%% md\n"
    }
   },
   "source": [
    "Visualize a few examples of the dataset"
   ]
  },
  {
   "cell_type": "code",
   "execution_count": 52,
   "metadata": {
    "colab": {
     "base_uri": "https://localhost:8080/",
     "height": 389
    },
    "executionInfo": {
     "elapsed": 120595,
     "status": "error",
     "timestamp": 1666096663564,
     "user": {
      "displayName": "Bernardo Taveira",
      "userId": "12200582985174515986"
     },
     "user_tz": -120
    },
    "id": "MSOjlhp8mHKi",
    "outputId": "51e41031-00f0-4ebb-a013-58c2f7ce1037",
    "pycharm": {
     "name": "#%%\n"
    }
   },
   "outputs": [
    {
     "name": "stderr",
     "output_type": "stream",
     "text": [
      "/tmp/ipykernel_14517/1705131821.py:6: DeprecationWarning: NEAREST is deprecated and will be removed in Pillow 10 (2023-07-01). Use Resampling.NEAREST or Dither.NONE instead.\n",
      "  image.resize((32*5*4, 32*2*4), Image.NEAREST)\n"
     ]
    },
    {
     "data": {
      "image/png": "[encoded data removed]",
      "text/plain": [
       "<PIL.Image.Image image mode=RGB size=640x256>"
      ]
     },
     "execution_count": 52,
     "metadata": {},
     "output_type": "execute_result"
    }
   ],
   "source": [
    "image = Image.new('RGB', size=(img_size*5, img_size*2))\n",
    "\n",
    "for i in range(10):\n",
    "  im = reverse_transform(faces_data[i][0])\n",
    "  image.paste(im, ( (i%5)*img_size, (i//5)*img_size ))\n",
    "image.resize((32*5*4, 32*2*4), Image.NEAREST)"
   ]
  },
  {
   "cell_type": "code",
   "execution_count": null,
   "outputs": [],
   "source": [],
   "metadata": {
    "collapsed": false,
    "pycharm": {
     "name": "#%%\n"
    }
   }
  },
  {
   "cell_type": "markdown",
   "metadata": {
    "id": "hwNix21Hqaan",
    "pycharm": {
     "name": "#%% md\n"
    }
   },
   "source": [
    "## 2.3 Create Dataloader"
   ]
  },
  {
   "cell_type": "code",
   "execution_count": 53,
   "metadata": {
    "executionInfo": {
     "elapsed": 5,
     "status": "aborted",
     "timestamp": 1666096521911,
     "user": {
      "displayName": "Bernardo Taveira",
      "userId": "12200582985174515986"
     },
     "user_tz": -120
    },
    "id": "UJX2ZeoAqDu3",
    "pycharm": {
     "name": "#%%\n"
    }
   },
   "outputs": [],
   "source": [
    "batch_size = 128\n",
    "dataloader = DataLoader(faces_data, batch_size=batch_size, shuffle=True)"
   ]
  },
  {
   "cell_type": "markdown",
   "metadata": {
    "id": "v9voWZ4LwUAM",
    "pycharm": {
     "name": "#%% md\n"
    }
   },
   "source": [
    "\n",
    "\n",
    "---\n",
    "\n",
    "\n",
    "# 3. Noise\n",
    "To train the model to denoise an image we need to be able to add noise to our images"
   ]
  },
  {
   "cell_type": "code",
   "execution_count": 54,
   "metadata": {
    "executionInfo": {
     "elapsed": 5,
     "status": "aborted",
     "timestamp": 1666096521911,
     "user": {
      "displayName": "Bernardo Taveira",
      "userId": "12200582985174515986"
     },
     "user_tz": -120
    },
    "id": "CJMspfnH2dcp",
    "pycharm": {
     "name": "#%%\n"
    }
   },
   "outputs": [],
   "source": [
    "steps = 200"
   ]
  },
  {
   "cell_type": "markdown",
   "metadata": {
    "id": "RCOHfjf9y7hS",
    "pycharm": {
     "name": "#%% md\n"
    }
   },
   "source": [
    "## 3.1 Beta - Forward process variances\n",
    "As expressed in this [article](https://paperswithcode.com/paper/perception-prioritized-training-of-diffusion) there are multiple ways to express the \"beta\"."
   ]
  },
  {
   "cell_type": "code",
   "execution_count": 55,
   "metadata": {
    "executionInfo": {
     "elapsed": 5,
     "status": "aborted",
     "timestamp": 1666096521911,
     "user": {
      "displayName": "Bernardo Taveira",
      "userId": "12200582985174515986"
     },
     "user_tz": -120
    },
    "id": "qyoj0JPVwd52",
    "pycharm": {
     "name": "#%%\n"
    }
   },
   "outputs": [],
   "source": [
    "def cosine_beta_schedule(timesteps, s=0.008):\n",
    "    \"\"\"\n",
    "    cosine schedule as proposed in https://arxiv.org/abs/2102.09672\n",
    "    \"\"\"\n",
    "    steps = timesteps + 1\n",
    "    x = torch.linspace(0, timesteps, steps)\n",
    "    alphas_cumprod = torch.cos(((x / timesteps) + s) / (1 + s) * torch.pi * 0.5) ** 2\n",
    "    alphas_cumprod = alphas_cumprod / alphas_cumprod[0]\n",
    "    betas = 1 - (alphas_cumprod[1:] / alphas_cumprod[:-1])\n",
    "    return torch.clip(betas, 0.0001, 0.9999)\n",
    "\n",
    "def linear_beta_schedule(timesteps):\n",
    "    beta_start = 0.0001\n",
    "    beta_end = 0.02\n",
    "    return torch.linspace(beta_start, beta_end, timesteps)\n",
    "\n",
    "def quadratic_beta_schedule(timesteps):\n",
    "    beta_start = 0.0001\n",
    "    beta_end = 0.02\n",
    "    return torch.linspace(beta_start**0.5, beta_end**0.5, timesteps) ** 2\n",
    "\n",
    "def sigmoid_beta_schedule(timesteps):\n",
    "    beta_start = 0.0001\n",
    "    beta_end = 0.02\n",
    "    betas = torch.linspace(-6, 6, timesteps)\n",
    "    return torch.sigmoid(betas) * (beta_end - beta_start) + beta_start\n",
    "\n",
    "\n",
    "# define beta schedule\n",
    "beta_schedule = 'linear'\n",
    "if beta_schedule == 'linear':\n",
    "    betas = linear_beta_schedule(timesteps=steps)\n",
    "elif beta_schedule == 'cosine':\n",
    "    betas = cosine_beta_schedule(timesteps=steps)\n",
    "elif beta_schedule == 'quadratic':\n",
    "    betas = quadratic_beta_schedule(timesteps=steps)\n",
    "elif beta_schedule == 'sigmoid':\n",
    "    betas = sigmoid_beta_schedule(timesteps=steps)"
   ]
  },
  {
   "cell_type": "markdown",
   "metadata": {
    "id": "iy4LTNCD0ARE",
    "pycharm": {
     "name": "#%% md\n"
    }
   },
   "source": [
    "We will then need to define other variables such as the comulative product of the variances"
   ]
  },
  {
   "cell_type": "code",
   "execution_count": 56,
   "metadata": {
    "executionInfo": {
     "elapsed": 5,
     "status": "aborted",
     "timestamp": 1666096521911,
     "user": {
      "displayName": "Bernardo Taveira",
      "userId": "12200582985174515986"
     },
     "user_tz": -120
    },
    "id": "teBWkdn30Uqe",
    "pycharm": {
     "name": "#%%\n"
    }
   },
   "outputs": [],
   "source": [
    "# define alphas \n",
    "alphas = 1. - betas\n",
    "alphas_cumprod = torch.cumprod(alphas, axis=0)\n",
    "alphas_cumprod_prev = F.pad(alphas_cumprod[:-1], (1, 0), value=1.0)\n",
    "sqrt_recip_alphas = torch.sqrt(1.0 / alphas)\n",
    "\n",
    "# calculations for diffusion q(x_t | x_{t-1}) and others\n",
    "sqrt_alphas_cumprod = torch.sqrt(alphas_cumprod)\n",
    "sqrt_one_minus_alphas_cumprod = torch.sqrt(1. - alphas_cumprod)\n",
    "\n",
    "# calculations for posterior q(x_{t-1} | x_t, x_0)\n",
    "posterior_variance = betas * (1. - alphas_cumprod_prev) / (1. - alphas_cumprod)"
   ]
  },
  {
   "cell_type": "markdown",
   "metadata": {
    "id": "yRMEsfZG6ZhO",
    "pycharm": {
     "name": "#%% md\n"
    }
   },
   "source": [
    "## 3.3 Add Noise Function"
   ]
  },
  {
   "cell_type": "code",
   "execution_count": 57,
   "metadata": {
    "executionInfo": {
     "elapsed": 5,
     "status": "aborted",
     "timestamp": 1666096521911,
     "user": {
      "displayName": "Bernardo Taveira",
      "userId": "12200582985174515986"
     },
     "user_tz": -120
    },
    "id": "W0B6b3YS6ZQo",
    "pycharm": {
     "name": "#%%\n"
    }
   },
   "outputs": [],
   "source": [
    "def extract(a, t, x_shape):\n",
    "    batch_size = t.shape[0]\n",
    "    out = a.gather(-1, t.type(torch.int64).cpu())\n",
    "    return out.reshape(batch_size, *((1,) * (len(x_shape) - 1))).to(t.device)\n",
    "\n",
    "def q_sample(x_start, t, noise=None):\n",
    "    if noise is None:\n",
    "        noise = torch.randn_like(x_start)\n",
    "\n",
    "    sqrt_alphas_cumprod_t = extract(sqrt_alphas_cumprod, t, x_start.shape)\n",
    "    sqrt_one_minus_alphas_cumprod_t = extract(\n",
    "        sqrt_one_minus_alphas_cumprod, t, x_start.shape\n",
    "    )\n",
    "\n",
    "    return sqrt_alphas_cumprod_t * x_start + sqrt_one_minus_alphas_cumprod_t * noise"
   ]
  },
  {
   "cell_type": "markdown",
   "metadata": {
    "id": "59Y9LX5BNibZ",
    "pycharm": {
     "name": "#%% md\n"
    }
   },
   "source": [
    "Try it out"
   ]
  },
  {
   "cell_type": "code",
   "execution_count": 58,
   "metadata": {
    "executionInfo": {
     "elapsed": 5,
     "status": "aborted",
     "timestamp": 1666096521911,
     "user": {
      "displayName": "Bernardo Taveira",
      "userId": "12200582985174515986"
     },
     "user_tz": -120
    },
    "id": "Gh5XcvxlNjxl",
    "pycharm": {
     "name": "#%%\n"
    }
   },
   "outputs": [
    {
     "name": "stderr",
     "output_type": "stream",
     "text": [
      "/tmp/ipykernel_14517/1633681466.py:12: DeprecationWarning: NEAREST is deprecated and will be removed in Pillow 10 (2023-07-01). Use Resampling.NEAREST or Dither.NONE instead.\n",
      "  image.resize((32*5*4, 32*4), Image.NEAREST)\n"
     ]
    },
    {
     "data": {
      "image/png": "[encoded data removed]",
      "text/plain": [
       "<PIL.Image.Image image mode=RGB size=640x128>"
      ]
     },
     "execution_count": 58,
     "metadata": {},
     "output_type": "execute_result"
    }
   ],
   "source": [
    "x = faces_data[1][0]\n",
    "\n",
    "ims = []\n",
    "for i in [0, steps/4, steps/2, steps/4*3, steps-1]:\n",
    "    t = torch.tensor([i])\n",
    "    x_noisy = q_sample(x, t=t)\n",
    "    ims.append(reverse_transform(x_noisy))\n",
    "\n",
    "image = Image.new('RGB', size=(img_size*5, img_size))\n",
    "for i, im in enumerate(ims):\n",
    "    image.paste(im, ( (i%5)*img_size, (i//5)*img_size ))\n",
    "image.resize((32*5*4, 32*4), Image.NEAREST)"
   ]
  },
  {
   "cell_type": "markdown",
   "metadata": {
    "id": "2dAe8Mc-tBIt",
    "pycharm": {
     "name": "#%% md\n"
    }
   },
   "source": [
    "# 4. Model\n",
    "For the denoising step we will use a U-Net"
   ]
  },
  {
   "cell_type": "markdown",
   "metadata": {
    "id": "uc7CwUBUvL1p",
    "pycharm": {
     "name": "#%% md\n"
    }
   },
   "source": [
    "We start off defining some helpful functions and modules"
   ]
  },
  {
   "cell_type": "code",
   "execution_count": 59,
   "metadata": {
    "executionInfo": {
     "elapsed": 4,
     "status": "aborted",
     "timestamp": 1666096521911,
     "user": {
      "displayName": "Bernardo Taveira",
      "userId": "12200582985174515986"
     },
     "user_tz": -120
    },
    "id": "1ET4TZzutAqG",
    "pycharm": {
     "name": "#%%\n"
    }
   },
   "outputs": [],
   "source": [
    "def exists(x):\n",
    "    return x is not None\n",
    "\n",
    "def default(val, d):\n",
    "    if exists(val):\n",
    "        return val\n",
    "    return d() if isfunction(d) else d\n",
    "\n",
    "class Residual(nn.Module):\n",
    "    def __init__(self, fn):\n",
    "        super().__init__()\n",
    "        self.fn = fn\n",
    "\n",
    "    def forward(self, x, *args, **kwargs):\n",
    "        return self.fn(x, *args, **kwargs) + x\n",
    "\n",
    "def Upsample(dim):\n",
    "    return nn.ConvTranspose2d(dim, dim, 4, 2, 1)\n",
    "\n",
    "def Downsample(dim):\n",
    "    return nn.Conv2d(dim, dim, 4, 2, 1)"
   ]
  },
  {
   "cell_type": "markdown",
   "metadata": {
    "id": "uYnNlEQHwaPi",
    "pycharm": {
     "name": "#%% md\n"
    }
   },
   "source": [
    "## 4.1 Time Embedding\n",
    "We then implement the position embeddings"
   ]
  },
  {
   "cell_type": "code",
   "execution_count": 60,
   "metadata": {
    "executionInfo": {
     "elapsed": 5,
     "status": "aborted",
     "timestamp": 1666096521912,
     "user": {
      "displayName": "Bernardo Taveira",
      "userId": "12200582985174515986"
     },
     "user_tz": -120
    },
    "id": "0zDAXmEJvUyq",
    "pycharm": {
     "name": "#%%\n"
    }
   },
   "outputs": [],
   "source": [
    "class SinusoidalPositionEmbeddings(nn.Module):\n",
    "    def __init__(self, dim):\n",
    "        super().__init__()\n",
    "        self.dim = dim\n",
    "\n",
    "    def forward(self, time):\n",
    "        device = time.device\n",
    "        half_dim = self.dim // 2\n",
    "        embeddings = math.log(10000) / (half_dim - 1)\n",
    "        embeddings = torch.exp(torch.arange(half_dim, device=device) * -embeddings)\n",
    "        embeddings = time[:, None] * embeddings[None, :]\n",
    "        embeddings = torch.cat((embeddings.sin(), embeddings.cos()), dim=-1)\n",
    "        return embeddings\n"
   ]
  },
  {
   "cell_type": "markdown",
   "metadata": {
    "id": "NxhQDTR-6yfj",
    "pycharm": {
     "name": "#%% md\n"
    }
   },
   "source": [
    "## 4.2 ResNet block"
   ]
  },
  {
   "cell_type": "code",
   "execution_count": 61,
   "metadata": {
    "executionInfo": {
     "elapsed": 5,
     "status": "aborted",
     "timestamp": 1666096521912,
     "user": {
      "displayName": "Bernardo Taveira",
      "userId": "12200582985174515986"
     },
     "user_tz": -120
    },
    "id": "ULJ8m0FC60jH",
    "pycharm": {
     "name": "#%%\n"
    }
   },
   "outputs": [],
   "source": [
    "class Block(nn.Module):\n",
    "    def __init__(self, dim, dim_out, groups = 8):\n",
    "        super().__init__()\n",
    "        self.proj = nn.Conv2d(dim, dim_out, 3, padding = 1)\n",
    "        self.norm = nn.GroupNorm(groups, dim_out)\n",
    "        self.act = nn.SiLU()\n",
    "\n",
    "    def forward(self, x, scale_shift = None):\n",
    "        x = self.proj(x)\n",
    "        x = self.norm(x)\n",
    "\n",
    "        if exists(scale_shift):\n",
    "            scale, shift = scale_shift\n",
    "            x = x * (scale + 1) + shift\n",
    "\n",
    "        x = self.act(x)\n",
    "        return x\n",
    "\n",
    "class ResnetBlock(nn.Module):\n",
    "    \"\"\"https://arxiv.org/abs/1512.03385\"\"\"\n",
    "    \n",
    "    def __init__(self, dim, dim_out, *, time_emb_dim=None, groups=8):\n",
    "        super().__init__()\n",
    "        self.mlp = (\n",
    "            nn.Sequential(nn.SiLU(), nn.Linear(time_emb_dim, dim_out))\n",
    "            if exists(time_emb_dim)\n",
    "            else None\n",
    "        )\n",
    "\n",
    "        self.block1 = Block(dim, dim_out, groups=groups)\n",
    "        self.block2 = Block(dim_out, dim_out, groups=groups)\n",
    "        self.res_conv = nn.Conv2d(dim, dim_out, 1) if dim != dim_out else nn.Identity()\n",
    "\n",
    "    def forward(self, x, time_emb=None):\n",
    "        h = self.block1(x)\n",
    "\n",
    "        if exists(self.mlp) and exists(time_emb):\n",
    "            time_emb = self.mlp(time_emb)\n",
    "            h = rearrange(time_emb, \"b c -> b c 1 1\") + h\n",
    "\n",
    "        h = self.block2(h)\n",
    "        return h + self.res_conv(x)\n",
    "\n",
    "\n",
    "class ConvNextBlock(nn.Module):\n",
    "    \"\"\"https://arxiv.org/abs/2201.03545\"\"\"\n",
    "\n",
    "    def __init__(self, dim, dim_out, *, time_emb_dim=None, mult=2, norm=True):\n",
    "        super().__init__()\n",
    "        self.mlp = (\n",
    "            nn.Sequential(nn.GELU(), nn.Linear(time_emb_dim, dim))\n",
    "            if exists(time_emb_dim)\n",
    "            else None\n",
    "        )\n",
    "\n",
    "        self.ds_conv = nn.Conv2d(dim, dim, 7, padding=3, groups=dim)\n",
    "\n",
    "        self.net = nn.Sequential(\n",
    "            nn.GroupNorm(1, dim) if norm else nn.Identity(),\n",
    "            nn.Conv2d(dim, dim_out * mult, 3, padding=1),\n",
    "            nn.GELU(),\n",
    "            nn.GroupNorm(1, dim_out * mult),\n",
    "            nn.Conv2d(dim_out * mult, dim_out, 3, padding=1),\n",
    "        )\n",
    "\n",
    "        self.res_conv = nn.Conv2d(dim, dim_out, 1) if dim != dim_out else nn.Identity()\n",
    "\n",
    "    def forward(self, x, time_emb=None):\n",
    "        h = self.ds_conv(x)\n",
    "\n",
    "        if exists(self.mlp) and exists(time_emb):\n",
    "            condition = self.mlp(time_emb)\n",
    "            h = h + rearrange(condition, \"b c -> b c 1 1\")\n",
    "\n",
    "        h = self.net(h)\n",
    "        return h + self.res_conv(x)"
   ]
  },
  {
   "cell_type": "markdown",
   "metadata": {
    "id": "0o2eR_Ad7KfZ",
    "pycharm": {
     "name": "#%% md\n"
    }
   },
   "source": [
    "## 4.3 Attention\n",
    "We implement two methods of attention. The regular one and a linear attention method which is much more efficient both in time and memory usage."
   ]
  },
  {
   "cell_type": "code",
   "execution_count": 62,
   "metadata": {
    "executionInfo": {
     "elapsed": 5,
     "status": "aborted",
     "timestamp": 1666096521912,
     "user": {
      "displayName": "Bernardo Taveira",
      "userId": "12200582985174515986"
     },
     "user_tz": -120
    },
    "id": "U16n2FP37NpI",
    "pycharm": {
     "name": "#%%\n"
    }
   },
   "outputs": [],
   "source": [
    "class Attention(nn.Module):\n",
    "    def __init__(self, dim, heads=4, dim_head=32):\n",
    "        super().__init__()\n",
    "        self.scale = dim_head**-0.5\n",
    "        self.heads = heads\n",
    "        hidden_dim = dim_head * heads\n",
    "        self.to_qkv = nn.Conv2d(dim, hidden_dim * 3, 1, bias=False)\n",
    "        self.to_out = nn.Conv2d(hidden_dim, dim, 1)\n",
    "\n",
    "    def forward(self, x):\n",
    "        b, c, h, w = x.shape\n",
    "        qkv = self.to_qkv(x).chunk(3, dim=1)\n",
    "        q, k, v = map(\n",
    "            lambda t: rearrange(t, \"b (h c) x y -> b h c (x y)\", h=self.heads), qkv\n",
    "        )\n",
    "        q = q * self.scale\n",
    "\n",
    "        sim = einsum(\"b h d i, b h d j -> b h i j\", q, k)\n",
    "        sim = sim - sim.amax(dim=-1, keepdim=True).detach()\n",
    "        attn = sim.softmax(dim=-1)\n",
    "\n",
    "        out = einsum(\"b h i j, b h d j -> b h i d\", attn, v)\n",
    "        out = rearrange(out, \"b h (x y) d -> b (h d) x y\", x=h, y=w)\n",
    "        return self.to_out(out)\n",
    "\n",
    "class LinearAttention(nn.Module):\n",
    "    def __init__(self, dim, heads=4, dim_head=32):\n",
    "        super().__init__()\n",
    "        self.scale = dim_head**-0.5\n",
    "        self.heads = heads\n",
    "        hidden_dim = dim_head * heads\n",
    "        self.to_qkv = nn.Conv2d(dim, hidden_dim * 3, 1, bias=False)\n",
    "\n",
    "        self.to_out = nn.Sequential(nn.Conv2d(hidden_dim, dim, 1), \n",
    "                                    nn.GroupNorm(1, dim))\n",
    "\n",
    "    def forward(self, x):\n",
    "        b, c, h, w = x.shape\n",
    "        qkv = self.to_qkv(x).chunk(3, dim=1)\n",
    "        q, k, v = map(\n",
    "            lambda t: rearrange(t, \"b (h c) x y -> b h c (x y)\", h=self.heads), qkv\n",
    "        )\n",
    "\n",
    "        q = q.softmax(dim=-2)\n",
    "        k = k.softmax(dim=-1)\n",
    "\n",
    "        q = q * self.scale\n",
    "        context = torch.einsum(\"b h d n, b h e n -> b h d e\", k, v)\n",
    "\n",
    "        out = torch.einsum(\"b h d e, b h d n -> b h e n\", context, q)\n",
    "        out = rearrange(out, \"b h c (x y) -> b (h c) x y\", h=self.heads, x=h, y=w)\n",
    "        return self.to_out(out)\n"
   ]
  },
  {
   "cell_type": "markdown",
   "metadata": {
    "id": "LfuuGiri8Tbr",
    "pycharm": {
     "name": "#%% md\n"
    }
   },
   "source": [
    "## 4.4 Group Normalization"
   ]
  },
  {
   "cell_type": "code",
   "execution_count": 63,
   "metadata": {
    "executionInfo": {
     "elapsed": 5,
     "status": "aborted",
     "timestamp": 1666096521912,
     "user": {
      "displayName": "Bernardo Taveira",
      "userId": "12200582985174515986"
     },
     "user_tz": -120
    },
    "id": "5qQxQRwy8WDB",
    "pycharm": {
     "name": "#%%\n"
    }
   },
   "outputs": [],
   "source": [
    "class PreNorm(nn.Module):\n",
    "    def __init__(self, dim, fn):\n",
    "        super().__init__()\n",
    "        self.fn = fn\n",
    "        self.norm = nn.GroupNorm(1, dim)\n",
    "\n",
    "    def forward(self, x):\n",
    "        x = self.norm(x)\n",
    "        return self.fn(x)\n"
   ]
  },
  {
   "cell_type": "markdown",
   "metadata": {
    "id": "OAntoavV9mPK",
    "pycharm": {
     "name": "#%% md\n"
    }
   },
   "source": [
    "## 4.5 U-Net\n",
    "The U-net works almost as an autoencoder. It first downsamples the input and operates on the image in the latent space before uoscaling again.\n",
    "\n",
    "The objective of our neural network is to estimate the noise added to the original image.\n",
    "\n",
    "I should then take a batch of noisy images as input (batch_size, n_channels, height, width) and output a tensor of equal shape with the noise."
   ]
  },
  {
   "cell_type": "code",
   "execution_count": 64,
   "metadata": {
    "executionInfo": {
     "elapsed": 5,
     "status": "aborted",
     "timestamp": 1666096521912,
     "user": {
      "displayName": "Bernardo Taveira",
      "userId": "12200582985174515986"
     },
     "user_tz": -120
    },
    "id": "i-ZqjpdL9oNU",
    "pycharm": {
     "name": "#%%\n"
    }
   },
   "outputs": [],
   "source": [
    "class Unet(nn.Module):\n",
    "    def __init__(\n",
    "        self,\n",
    "        dim,\n",
    "        init_dim=None,\n",
    "        out_dim=None,\n",
    "        dim_mults=(1, 2, 4, 8),\n",
    "        channels=3,\n",
    "        with_time_emb=True,\n",
    "        resnet_block_groups=8,\n",
    "        use_convnext=True,\n",
    "        convnext_mult=2,\n",
    "    ):\n",
    "        super().__init__()\n",
    "\n",
    "        # determine dimensions\n",
    "        self.channels = channels\n",
    "\n",
    "        init_dim = default(init_dim, dim // 3 * 2)\n",
    "        self.init_conv = nn.Conv2d(channels, init_dim, 7, padding=3)\n",
    "\n",
    "        dims = [init_dim, *map(lambda m: dim * m, dim_mults)]\n",
    "        in_out = list(zip(dims[:-1], dims[1:]))\n",
    "        \n",
    "        if use_convnext:\n",
    "            block_klass = partial(ConvNextBlock, mult=convnext_mult)\n",
    "        else:\n",
    "            block_klass = partial(ResnetBlock, groups=resnet_block_groups)\n",
    "\n",
    "        # time embeddings\n",
    "        if with_time_emb:\n",
    "            time_dim = dim * 4\n",
    "            self.time_mlp = nn.Sequential(\n",
    "                SinusoidalPositionEmbeddings(dim),\n",
    "                nn.Linear(dim, time_dim),\n",
    "                nn.GELU(),\n",
    "                nn.Linear(time_dim, time_dim),\n",
    "            )\n",
    "        else:\n",
    "            time_dim = None\n",
    "            self.time_mlp = None\n",
    "\n",
    "        # layers\n",
    "        self.downs = nn.ModuleList([])\n",
    "        self.ups = nn.ModuleList([])\n",
    "        num_resolutions = len(in_out)\n",
    "\n",
    "        for ind, (dim_in, dim_out) in enumerate(in_out):\n",
    "            is_last = ind >= (num_resolutions - 1)\n",
    "\n",
    "            self.downs.append(\n",
    "                nn.ModuleList(\n",
    "                    [\n",
    "                        block_klass(dim_in, dim_out, time_emb_dim=time_dim),\n",
    "                        block_klass(dim_out, dim_out, time_emb_dim=time_dim),\n",
    "                        Residual(PreNorm(dim_out, LinearAttention(dim_out))),\n",
    "                        Downsample(dim_out) if not is_last else nn.Identity(),\n",
    "                    ]\n",
    "                )\n",
    "            )\n",
    "\n",
    "        mid_dim = dims[-1]\n",
    "        self.mid_block1 = block_klass(mid_dim, mid_dim, time_emb_dim=time_dim)\n",
    "        self.mid_attn = Residual(PreNorm(mid_dim, Attention(mid_dim)))\n",
    "        self.mid_block2 = block_klass(mid_dim, mid_dim, time_emb_dim=time_dim)\n",
    "\n",
    "        for ind, (dim_in, dim_out) in enumerate(reversed(in_out[1:])):\n",
    "            is_last = ind >= (num_resolutions - 1)\n",
    "\n",
    "            self.ups.append(\n",
    "                nn.ModuleList(\n",
    "                    [\n",
    "                        block_klass(dim_out * 2, dim_in, time_emb_dim=time_dim),\n",
    "                        block_klass(dim_in, dim_in, time_emb_dim=time_dim),\n",
    "                        Residual(PreNorm(dim_in, LinearAttention(dim_in))),\n",
    "                        Upsample(dim_in) if not is_last else nn.Identity(),\n",
    "                    ]\n",
    "                )\n",
    "            )\n",
    "\n",
    "        out_dim = default(out_dim, channels)\n",
    "        self.final_conv = nn.Sequential(\n",
    "            block_klass(dim, dim), nn.Conv2d(dim, out_dim, 1)\n",
    "        )\n",
    "\n",
    "    def forward(self, x, time):\n",
    "        x = self.init_conv(x)\n",
    "\n",
    "        t = self.time_mlp(time) if exists(self.time_mlp) else None\n",
    "\n",
    "        h = []\n",
    "\n",
    "        # downsample\n",
    "        for block1, block2, attn, downsample in self.downs:\n",
    "            x = block1(x, t)\n",
    "            x = block2(x, t)\n",
    "            x = attn(x)\n",
    "            h.append(x)\n",
    "            x = downsample(x)\n",
    "\n",
    "        # bottleneck\n",
    "        x = self.mid_block1(x, t)\n",
    "        x = self.mid_attn(x)\n",
    "        x = self.mid_block2(x, t)\n",
    "\n",
    "        # upsample\n",
    "        for block1, block2, attn, upsample in self.ups:\n",
    "            x = torch.cat((x, h.pop()), dim=1)\n",
    "            x = block1(x, t)\n",
    "            x = block2(x, t)\n",
    "            x = attn(x)\n",
    "            x = upsample(x)\n",
    "\n",
    "        return self.final_conv(x)\n"
   ]
  },
  {
   "cell_type": "markdown",
   "metadata": {
    "id": "THt2yEmFlWau",
    "pycharm": {
     "name": "#%% md\n"
    }
   },
   "source": [
    "# 5. Generate Noisy Image"
   ]
  },
  {
   "cell_type": "code",
   "execution_count": 65,
   "metadata": {
    "executionInfo": {
     "elapsed": 5,
     "status": "aborted",
     "timestamp": 1666096521912,
     "user": {
      "displayName": "Bernardo Taveira",
      "userId": "12200582985174515986"
     },
     "user_tz": -120
    },
    "id": "3IdFLtynlch2",
    "pycharm": {
     "name": "#%%\n"
    }
   },
   "outputs": [],
   "source": [
    "@torch.no_grad()\n",
    "def p_sample(model, x, t, t_index):\n",
    "    betas_t = extract(betas, t, x.shape)\n",
    "    sqrt_one_minus_alphas_cumprod_t = extract(\n",
    "        sqrt_one_minus_alphas_cumprod, t, x.shape\n",
    "    )\n",
    "    sqrt_recip_alphas_t = extract(sqrt_recip_alphas, t, x.shape)\n",
    "    \n",
    "    # Equation 11 in the paper\n",
    "    # Use our model (noise predictor) to predict the mean\n",
    "    model_mean = sqrt_recip_alphas_t * (\n",
    "        x - betas_t * model(x, t) / sqrt_one_minus_alphas_cumprod_t\n",
    "    )\n",
    "\n",
    "    if t_index == 0:\n",
    "        return model_mean\n",
    "    else:\n",
    "        posterior_variance_t = extract(posterior_variance, t, x.shape)\n",
    "        noise = torch.randn_like(x)\n",
    "        # Algorithm 2 line 4:\n",
    "        return model_mean + torch.sqrt(posterior_variance_t) * noise \n",
    "\n",
    "# Algorithm 2 (including returning all images)\n",
    "@torch.no_grad()\n",
    "def p_sample_loop(model, shape):\n",
    "    device = next(model.parameters()).device\n",
    "\n",
    "    b = shape[0]\n",
    "    # start from pure noise (for each example in the batch)\n",
    "    img = torch.randn(shape, device=device)\n",
    "    imgs = []\n",
    "\n",
    "    for i in tqdm(reversed(range(0, steps)), desc='sampling loop time step', total=steps):\n",
    "        img = p_sample(model, img, torch.full((b,), i, device=device, dtype=torch.long), i)\n",
    "        imgs.append(img.cpu())\n",
    "    return imgs\n",
    "\n",
    "@torch.no_grad()\n",
    "def sample(model, image_size, batch_size=16, channels=3):\n",
    "    return p_sample_loop(model, shape=(batch_size, channels, image_size, image_size))\n"
   ]
  },
  {
   "cell_type": "markdown",
   "metadata": {
    "id": "S7EgefBOleBT",
    "pycharm": {
     "name": "#%% md\n"
    }
   },
   "source": [
    "# 6. Train\n",
    "\n",
    "We start with some helpfull functions"
   ]
  },
  {
   "cell_type": "code",
   "execution_count": 66,
   "metadata": {
    "executionInfo": {
     "elapsed": 5,
     "status": "aborted",
     "timestamp": 1666096521912,
     "user": {
      "displayName": "Bernardo Taveira",
      "userId": "12200582985174515986"
     },
     "user_tz": -120
    },
    "id": "df8yGwIllgju",
    "pycharm": {
     "name": "#%%\n"
    }
   },
   "outputs": [],
   "source": [
    "from pathlib import Path\n",
    "from datetime import datetime\n",
    "import json\n",
    "\n",
    "def num_to_groups(num, divisor):\n",
    "    groups = num // divisor\n",
    "    remainder = num % divisor\n",
    "    arr = [divisor] * groups\n",
    "    if remainder > 0:\n",
    "        arr.append(remainder)\n",
    "    return arr\n",
    "\n",
    "def image_grid(imgs, rows, cols):\n",
    "    assert len(imgs) == rows*cols\n",
    "\n",
    "    w, h = imgs[0].size\n",
    "    grid = Image.new('RGB', size=(cols*w, rows*h))\n",
    "    grid_w, grid_h = grid.size\n",
    "    \n",
    "    for i, img in enumerate(imgs):\n",
    "        grid.paste(img, box=(i%cols*w, i//cols*h))\n",
    "    return grid\n",
    "\n"
   ]
  },
  {
   "cell_type": "markdown",
   "metadata": {
    "pycharm": {
     "name": "#%% md\n"
    }
   },
   "source": [
    "## 6.1 Loss\n",
    "We then define multiple loss functions to choose from. We will compare them and decide which gives best results"
   ]
  },
  {
   "cell_type": "code",
   "execution_count": 67,
   "metadata": {
    "executionInfo": {
     "elapsed": 5,
     "status": "aborted",
     "timestamp": 1666096521912,
     "user": {
      "displayName": "Bernardo Taveira",
      "userId": "12200582985174515986"
     },
     "user_tz": -120
    },
    "id": "oC3ISgKhogEH",
    "pycharm": {
     "name": "#%%\n"
    }
   },
   "outputs": [],
   "source": [
    "def p_losses(denoise_model, x_start, t, noise=None, loss_type=\"l1\"):\n",
    "    if noise is None:\n",
    "        noise = torch.randn_like(x_start)\n",
    "\n",
    "    x_noisy = q_sample(x_start=x_start, t=t, noise=noise)\n",
    "    predicted_noise = denoise_model(x_noisy, t)\n",
    "\n",
    "    if loss_type == 'l1':\n",
    "        loss = F.l1_loss(noise, predicted_noise)\n",
    "    elif loss_type == 'l2':\n",
    "        loss = F.mse_loss(noise, predicted_noise)\n",
    "    elif loss_type == \"huber\":\n",
    "        loss = F.smooth_l1_loss(noise, predicted_noise)\n",
    "    else:\n",
    "        raise NotImplementedError()\n",
    "\n",
    "    return loss\n"
   ]
  },
  {
   "cell_type": "markdown",
   "metadata": {
    "pycharm": {
     "name": "#%% md\n"
    }
   },
   "source": [
    "## 6.2 Model creation"
   ]
  },
  {
   "cell_type": "code",
   "execution_count": 68,
   "metadata": {
    "executionInfo": {
     "elapsed": 5,
     "status": "aborted",
     "timestamp": 1666096521912,
     "user": {
      "displayName": "Bernardo Taveira",
      "userId": "12200582985174515986"
     },
     "user_tz": -120
    },
    "id": "TJ2aK9ZBifLW",
    "scrolled": true,
    "tags": [],
    "pycharm": {
     "name": "#%%\n"
    }
   },
   "outputs": [
    {
     "data": {
      "text/plain": [
       "Unet(\n",
       "  (init_conv): Conv2d(3, 20, kernel_size=(7, 7), stride=(1, 1), padding=(3, 3))\n",
       "  (time_mlp): Sequential(\n",
       "    (0): SinusoidalPositionEmbeddings()\n",
       "    (1): Linear(in_features=32, out_features=128, bias=True)\n",
       "    (2): GELU()\n",
       "    (3): Linear(in_features=128, out_features=128, bias=True)\n",
       "  )\n",
       "  (downs): ModuleList(\n",
       "    (0): ModuleList(\n",
       "      (0): ResnetBlock(\n",
       "        (mlp): Sequential(\n",
       "          (0): SiLU()\n",
       "          (1): Linear(in_features=128, out_features=32, bias=True)\n",
       "        )\n",
       "        (block1): Block(\n",
       "          (proj): Conv2d(20, 32, kernel_size=(3, 3), stride=(1, 1), padding=(1, 1))\n",
       "          (norm): GroupNorm(8, 32, eps=1e-05, affine=True)\n",
       "          (act): SiLU()\n",
       "        )\n",
       "        (block2): Block(\n",
       "          (proj): Conv2d(32, 32, kernel_size=(3, 3), stride=(1, 1), padding=(1, 1))\n",
       "          (norm): GroupNorm(8, 32, eps=1e-05, affine=True)\n",
       "          (act): SiLU()\n",
       "        )\n",
       "        (res_conv): Conv2d(20, 32, kernel_size=(1, 1), stride=(1, 1))\n",
       "      )\n",
       "      (1): ResnetBlock(\n",
       "        (mlp): Sequential(\n",
       "          (0): SiLU()\n",
       "          (1): Linear(in_features=128, out_features=32, bias=True)\n",
       "        )\n",
       "        (block1): Block(\n",
       "          (proj): Conv2d(32, 32, kernel_size=(3, 3), stride=(1, 1), padding=(1, 1))\n",
       "          (norm): GroupNorm(8, 32, eps=1e-05, affine=True)\n",
       "          (act): SiLU()\n",
       "        )\n",
       "        (block2): Block(\n",
       "          (proj): Conv2d(32, 32, kernel_size=(3, 3), stride=(1, 1), padding=(1, 1))\n",
       "          (norm): GroupNorm(8, 32, eps=1e-05, affine=True)\n",
       "          (act): SiLU()\n",
       "        )\n",
       "        (res_conv): Identity()\n",
       "      )\n",
       "      (2): Residual(\n",
       "        (fn): PreNorm(\n",
       "          (fn): LinearAttention(\n",
       "            (to_qkv): Conv2d(32, 384, kernel_size=(1, 1), stride=(1, 1), bias=False)\n",
       "            (to_out): Sequential(\n",
       "              (0): Conv2d(128, 32, kernel_size=(1, 1), stride=(1, 1))\n",
       "              (1): GroupNorm(1, 32, eps=1e-05, affine=True)\n",
       "            )\n",
       "          )\n",
       "          (norm): GroupNorm(1, 32, eps=1e-05, affine=True)\n",
       "        )\n",
       "      )\n",
       "      (3): Conv2d(32, 32, kernel_size=(4, 4), stride=(2, 2), padding=(1, 1))\n",
       "    )\n",
       "    (1): ModuleList(\n",
       "      (0): ResnetBlock(\n",
       "        (mlp): Sequential(\n",
       "          (0): SiLU()\n",
       "          (1): Linear(in_features=128, out_features=64, bias=True)\n",
       "        )\n",
       "        (block1): Block(\n",
       "          (proj): Conv2d(32, 64, kernel_size=(3, 3), stride=(1, 1), padding=(1, 1))\n",
       "          (norm): GroupNorm(8, 64, eps=1e-05, affine=True)\n",
       "          (act): SiLU()\n",
       "        )\n",
       "        (block2): Block(\n",
       "          (proj): Conv2d(64, 64, kernel_size=(3, 3), stride=(1, 1), padding=(1, 1))\n",
       "          (norm): GroupNorm(8, 64, eps=1e-05, affine=True)\n",
       "          (act): SiLU()\n",
       "        )\n",
       "        (res_conv): Conv2d(32, 64, kernel_size=(1, 1), stride=(1, 1))\n",
       "      )\n",
       "      (1): ResnetBlock(\n",
       "        (mlp): Sequential(\n",
       "          (0): SiLU()\n",
       "          (1): Linear(in_features=128, out_features=64, bias=True)\n",
       "        )\n",
       "        (block1): Block(\n",
       "          (proj): Conv2d(64, 64, kernel_size=(3, 3), stride=(1, 1), padding=(1, 1))\n",
       "          (norm): GroupNorm(8, 64, eps=1e-05, affine=True)\n",
       "          (act): SiLU()\n",
       "        )\n",
       "        (block2): Block(\n",
       "          (proj): Conv2d(64, 64, kernel_size=(3, 3), stride=(1, 1), padding=(1, 1))\n",
       "          (norm): GroupNorm(8, 64, eps=1e-05, affine=True)\n",
       "          (act): SiLU()\n",
       "        )\n",
       "        (res_conv): Identity()\n",
       "      )\n",
       "      (2): Residual(\n",
       "        (fn): PreNorm(\n",
       "          (fn): LinearAttention(\n",
       "            (to_qkv): Conv2d(64, 384, kernel_size=(1, 1), stride=(1, 1), bias=False)\n",
       "            (to_out): Sequential(\n",
       "              (0): Conv2d(128, 64, kernel_size=(1, 1), stride=(1, 1))\n",
       "              (1): GroupNorm(1, 64, eps=1e-05, affine=True)\n",
       "            )\n",
       "          )\n",
       "          (norm): GroupNorm(1, 64, eps=1e-05, affine=True)\n",
       "        )\n",
       "      )\n",
       "      (3): Conv2d(64, 64, kernel_size=(4, 4), stride=(2, 2), padding=(1, 1))\n",
       "    )\n",
       "    (2): ModuleList(\n",
       "      (0): ResnetBlock(\n",
       "        (mlp): Sequential(\n",
       "          (0): SiLU()\n",
       "          (1): Linear(in_features=128, out_features=128, bias=True)\n",
       "        )\n",
       "        (block1): Block(\n",
       "          (proj): Conv2d(64, 128, kernel_size=(3, 3), stride=(1, 1), padding=(1, 1))\n",
       "          (norm): GroupNorm(8, 128, eps=1e-05, affine=True)\n",
       "          (act): SiLU()\n",
       "        )\n",
       "        (block2): Block(\n",
       "          (proj): Conv2d(128, 128, kernel_size=(3, 3), stride=(1, 1), padding=(1, 1))\n",
       "          (norm): GroupNorm(8, 128, eps=1e-05, affine=True)\n",
       "          (act): SiLU()\n",
       "        )\n",
       "        (res_conv): Conv2d(64, 128, kernel_size=(1, 1), stride=(1, 1))\n",
       "      )\n",
       "      (1): ResnetBlock(\n",
       "        (mlp): Sequential(\n",
       "          (0): SiLU()\n",
       "          (1): Linear(in_features=128, out_features=128, bias=True)\n",
       "        )\n",
       "        (block1): Block(\n",
       "          (proj): Conv2d(128, 128, kernel_size=(3, 3), stride=(1, 1), padding=(1, 1))\n",
       "          (norm): GroupNorm(8, 128, eps=1e-05, affine=True)\n",
       "          (act): SiLU()\n",
       "        )\n",
       "        (block2): Block(\n",
       "          (proj): Conv2d(128, 128, kernel_size=(3, 3), stride=(1, 1), padding=(1, 1))\n",
       "          (norm): GroupNorm(8, 128, eps=1e-05, affine=True)\n",
       "          (act): SiLU()\n",
       "        )\n",
       "        (res_conv): Identity()\n",
       "      )\n",
       "      (2): Residual(\n",
       "        (fn): PreNorm(\n",
       "          (fn): LinearAttention(\n",
       "            (to_qkv): Conv2d(128, 384, kernel_size=(1, 1), stride=(1, 1), bias=False)\n",
       "            (to_out): Sequential(\n",
       "              (0): Conv2d(128, 128, kernel_size=(1, 1), stride=(1, 1))\n",
       "              (1): GroupNorm(1, 128, eps=1e-05, affine=True)\n",
       "            )\n",
       "          )\n",
       "          (norm): GroupNorm(1, 128, eps=1e-05, affine=True)\n",
       "        )\n",
       "      )\n",
       "      (3): Identity()\n",
       "    )\n",
       "  )\n",
       "  (ups): ModuleList(\n",
       "    (0): ModuleList(\n",
       "      (0): ResnetBlock(\n",
       "        (mlp): Sequential(\n",
       "          (0): SiLU()\n",
       "          (1): Linear(in_features=128, out_features=64, bias=True)\n",
       "        )\n",
       "        (block1): Block(\n",
       "          (proj): Conv2d(256, 64, kernel_size=(3, 3), stride=(1, 1), padding=(1, 1))\n",
       "          (norm): GroupNorm(8, 64, eps=1e-05, affine=True)\n",
       "          (act): SiLU()\n",
       "        )\n",
       "        (block2): Block(\n",
       "          (proj): Conv2d(64, 64, kernel_size=(3, 3), stride=(1, 1), padding=(1, 1))\n",
       "          (norm): GroupNorm(8, 64, eps=1e-05, affine=True)\n",
       "          (act): SiLU()\n",
       "        )\n",
       "        (res_conv): Conv2d(256, 64, kernel_size=(1, 1), stride=(1, 1))\n",
       "      )\n",
       "      (1): ResnetBlock(\n",
       "        (mlp): Sequential(\n",
       "          (0): SiLU()\n",
       "          (1): Linear(in_features=128, out_features=64, bias=True)\n",
       "        )\n",
       "        (block1): Block(\n",
       "          (proj): Conv2d(64, 64, kernel_size=(3, 3), stride=(1, 1), padding=(1, 1))\n",
       "          (norm): GroupNorm(8, 64, eps=1e-05, affine=True)\n",
       "          (act): SiLU()\n",
       "        )\n",
       "        (block2): Block(\n",
       "          (proj): Conv2d(64, 64, kernel_size=(3, 3), stride=(1, 1), padding=(1, 1))\n",
       "          (norm): GroupNorm(8, 64, eps=1e-05, affine=True)\n",
       "          (act): SiLU()\n",
       "        )\n",
       "        (res_conv): Identity()\n",
       "      )\n",
       "      (2): Residual(\n",
       "        (fn): PreNorm(\n",
       "          (fn): LinearAttention(\n",
       "            (to_qkv): Conv2d(64, 384, kernel_size=(1, 1), stride=(1, 1), bias=False)\n",
       "            (to_out): Sequential(\n",
       "              (0): Conv2d(128, 64, kernel_size=(1, 1), stride=(1, 1))\n",
       "              (1): GroupNorm(1, 64, eps=1e-05, affine=True)\n",
       "            )\n",
       "          )\n",
       "          (norm): GroupNorm(1, 64, eps=1e-05, affine=True)\n",
       "        )\n",
       "      )\n",
       "      (3): ConvTranspose2d(64, 64, kernel_size=(4, 4), stride=(2, 2), padding=(1, 1))\n",
       "    )\n",
       "    (1): ModuleList(\n",
       "      (0): ResnetBlock(\n",
       "        (mlp): Sequential(\n",
       "          (0): SiLU()\n",
       "          (1): Linear(in_features=128, out_features=32, bias=True)\n",
       "        )\n",
       "        (block1): Block(\n",
       "          (proj): Conv2d(128, 32, kernel_size=(3, 3), stride=(1, 1), padding=(1, 1))\n",
       "          (norm): GroupNorm(8, 32, eps=1e-05, affine=True)\n",
       "          (act): SiLU()\n",
       "        )\n",
       "        (block2): Block(\n",
       "          (proj): Conv2d(32, 32, kernel_size=(3, 3), stride=(1, 1), padding=(1, 1))\n",
       "          (norm): GroupNorm(8, 32, eps=1e-05, affine=True)\n",
       "          (act): SiLU()\n",
       "        )\n",
       "        (res_conv): Conv2d(128, 32, kernel_size=(1, 1), stride=(1, 1))\n",
       "      )\n",
       "      (1): ResnetBlock(\n",
       "        (mlp): Sequential(\n",
       "          (0): SiLU()\n",
       "          (1): Linear(in_features=128, out_features=32, bias=True)\n",
       "        )\n",
       "        (block1): Block(\n",
       "          (proj): Conv2d(32, 32, kernel_size=(3, 3), stride=(1, 1), padding=(1, 1))\n",
       "          (norm): GroupNorm(8, 32, eps=1e-05, affine=True)\n",
       "          (act): SiLU()\n",
       "        )\n",
       "        (block2): Block(\n",
       "          (proj): Conv2d(32, 32, kernel_size=(3, 3), stride=(1, 1), padding=(1, 1))\n",
       "          (norm): GroupNorm(8, 32, eps=1e-05, affine=True)\n",
       "          (act): SiLU()\n",
       "        )\n",
       "        (res_conv): Identity()\n",
       "      )\n",
       "      (2): Residual(\n",
       "        (fn): PreNorm(\n",
       "          (fn): LinearAttention(\n",
       "            (to_qkv): Conv2d(32, 384, kernel_size=(1, 1), stride=(1, 1), bias=False)\n",
       "            (to_out): Sequential(\n",
       "              (0): Conv2d(128, 32, kernel_size=(1, 1), stride=(1, 1))\n",
       "              (1): GroupNorm(1, 32, eps=1e-05, affine=True)\n",
       "            )\n",
       "          )\n",
       "          (norm): GroupNorm(1, 32, eps=1e-05, affine=True)\n",
       "        )\n",
       "      )\n",
       "      (3): ConvTranspose2d(32, 32, kernel_size=(4, 4), stride=(2, 2), padding=(1, 1))\n",
       "    )\n",
       "  )\n",
       "  (mid_block1): ResnetBlock(\n",
       "    (mlp): Sequential(\n",
       "      (0): SiLU()\n",
       "      (1): Linear(in_features=128, out_features=128, bias=True)\n",
       "    )\n",
       "    (block1): Block(\n",
       "      (proj): Conv2d(128, 128, kernel_size=(3, 3), stride=(1, 1), padding=(1, 1))\n",
       "      (norm): GroupNorm(8, 128, eps=1e-05, affine=True)\n",
       "      (act): SiLU()\n",
       "    )\n",
       "    (block2): Block(\n",
       "      (proj): Conv2d(128, 128, kernel_size=(3, 3), stride=(1, 1), padding=(1, 1))\n",
       "      (norm): GroupNorm(8, 128, eps=1e-05, affine=True)\n",
       "      (act): SiLU()\n",
       "    )\n",
       "    (res_conv): Identity()\n",
       "  )\n",
       "  (mid_attn): Residual(\n",
       "    (fn): PreNorm(\n",
       "      (fn): Attention(\n",
       "        (to_qkv): Conv2d(128, 384, kernel_size=(1, 1), stride=(1, 1), bias=False)\n",
       "        (to_out): Conv2d(128, 128, kernel_size=(1, 1), stride=(1, 1))\n",
       "      )\n",
       "      (norm): GroupNorm(1, 128, eps=1e-05, affine=True)\n",
       "    )\n",
       "  )\n",
       "  (mid_block2): ResnetBlock(\n",
       "    (mlp): Sequential(\n",
       "      (0): SiLU()\n",
       "      (1): Linear(in_features=128, out_features=128, bias=True)\n",
       "    )\n",
       "    (block1): Block(\n",
       "      (proj): Conv2d(128, 128, kernel_size=(3, 3), stride=(1, 1), padding=(1, 1))\n",
       "      (norm): GroupNorm(8, 128, eps=1e-05, affine=True)\n",
       "      (act): SiLU()\n",
       "    )\n",
       "    (block2): Block(\n",
       "      (proj): Conv2d(128, 128, kernel_size=(3, 3), stride=(1, 1), padding=(1, 1))\n",
       "      (norm): GroupNorm(8, 128, eps=1e-05, affine=True)\n",
       "      (act): SiLU()\n",
       "    )\n",
       "    (res_conv): Identity()\n",
       "  )\n",
       "  (final_conv): Sequential(\n",
       "    (0): ResnetBlock(\n",
       "      (block1): Block(\n",
       "        (proj): Conv2d(32, 32, kernel_size=(3, 3), stride=(1, 1), padding=(1, 1))\n",
       "        (norm): GroupNorm(8, 32, eps=1e-05, affine=True)\n",
       "        (act): SiLU()\n",
       "      )\n",
       "      (block2): Block(\n",
       "        (proj): Conv2d(32, 32, kernel_size=(3, 3), stride=(1, 1), padding=(1, 1))\n",
       "        (norm): GroupNorm(8, 32, eps=1e-05, affine=True)\n",
       "        (act): SiLU()\n",
       "      )\n",
       "      (res_conv): Identity()\n",
       "    )\n",
       "    (1): Conv2d(32, 3, kernel_size=(1, 1), stride=(1, 1))\n",
       "  )\n",
       ")"
      ]
     },
     "execution_count": 68,
     "metadata": {},
     "output_type": "execute_result"
    }
   ],
   "source": [
    "from torch.optim import Adam\n",
    "\n",
    "device = \"cuda\" if torch.cuda.is_available() else \"cpu\"\n",
    "\n",
    "use_convnext = False\n",
    "\n",
    "model = Unet(\n",
    "    dim=img_size,\n",
    "    channels=3,\n",
    "    dim_mults=(1, 2, 4,),\n",
    "    use_convnext = use_convnext\n",
    ")\n",
    "model.to(device)"
   ]
  },
  {
   "cell_type": "markdown",
   "metadata": {
    "pycharm": {
     "name": "#%% md\n"
    }
   },
   "source": [
    "## Training Loop\n",
    "We will define the training loop function"
   ]
  },
  {
   "cell_type": "code",
   "execution_count": 69,
   "metadata": {
    "executionInfo": {
     "elapsed": 5,
     "status": "aborted",
     "timestamp": 1666096521912,
     "user": {
      "displayName": "Bernardo Taveira",
      "userId": "12200582985174515986"
     },
     "user_tz": -120
    },
    "id": "dX50eqHM_VR2",
    "pycharm": {
     "name": "#%%\n"
    }
   },
   "outputs": [],
   "source": [
    "def train(model, optimizer, config):\n",
    "    \n",
    "    it = 0\n",
    "    \n",
    "    for epoch in range(config['epochs']):\n",
    "        print(\"[Epoch: \", epoch, \"]\")\n",
    "\n",
    "        for step, batch in enumerate(dataloader):\n",
    "            optimizer.zero_grad()\n",
    "            \n",
    "            batch_size = batch[0].shape[0]\n",
    "            batch = batch[0].to(device)\n",
    "\n",
    "            # Algorithm 1 line 3: sample t uniformally for every example in the batch\n",
    "            t = torch.randint(0, config['noise_steps'], (batch_size,), device=config['device']).long()\n",
    "\n",
    "            loss = p_losses(model, batch, t, loss_type=config['loss_type'])\n",
    "\n",
    "            it += 1\n",
    "            if step % 100 == 0:\n",
    "                print(\"Loss:\", loss.item())\n",
    "\n",
    "            loss.backward()\n",
    "            optimizer.step()\n",
    "\n",
    "\n",
    "        # Visualize state after each epoch  \n",
    "        with torch.no_grad():  \n",
    "            samples = sample(model, image_size=config['img_size'], batch_size=10, channels=3)\n",
    "\n",
    "            # show a random one\n",
    "            ims = [reverse_transform(samples[-1][i]) for i in range(10)]\n",
    "            grid = image_grid(ims, rows=2, cols=5)\n",
    "            grid = grid.save(str(results_folder / f'sample-epoch{epoch}.png'))\n",
    "    \n",
    "    print(\"Finished! \", it, \" training steps completed\")"
   ]
  },
  {
   "cell_type": "code",
   "execution_count": null,
   "metadata": {
    "executionInfo": {
     "elapsed": 6,
     "status": "aborted",
     "timestamp": 1666096521913,
     "user": {
      "displayName": "Bernardo Taveira",
      "userId": "12200582985174515986"
     },
     "user_tz": -120
    },
    "id": "NNQf9BN-jImW",
    "scrolled": true,
    "tags": [],
    "pycharm": {
     "name": "#%%\n"
    }
   },
   "outputs": [
    {
     "data": {
      "text/plain": [
       "{'epochs': 50,\n",
       " 'noise_steps': 200,\n",
       " 'batch_size': 128,\n",
       " 'img_size': 32,\n",
       " 'learning_rate': 0.0001,\n",
       " 'beta_schedule': 'linear',\n",
       " 'dataset': 'CelebA',\n",
       " 'device': 'cuda',\n",
       " 'use_convnext': False,\n",
       " 'loss_type': 'huber'}"
      ]
     },
     "metadata": {},
     "output_type": "display_data"
    },
    {
     "name": "stdout",
     "output_type": "stream",
     "text": [
      "[Epoch:  0 ]\n",
      "Loss: 0.492999792098999\n",
      "Loss: 0.3125971555709839\n",
      "Loss: 0.18361863493919373\n",
      "Loss: 0.13646337389945984\n",
      "Loss: 0.11988739669322968\n",
      "Loss: 0.10243088006973267\n",
      "Loss: 0.09267757833003998\n",
      "Loss: 0.09358634799718857\n",
      "Loss: 0.07622864842414856\n",
      "Loss: 0.06915716081857681\n",
      "Loss: 0.07961113005876541\n",
      "Loss: 0.06895138323307037\n",
      "Loss: 0.06603795289993286\n",
      "Loss: 0.06600009649991989\n",
      "Loss: 0.05385824292898178\n",
      "Loss: 0.07111608982086182\n"
     ]
    },
    {
     "data": {
      "application/json": {
       "ascii": false,
       "bar_format": null,
       "colour": null,
       "elapsed": 0.010719060897827148,
       "initial": 0,
       "n": 0,
       "ncols": null,
       "nrows": 30,
       "postfix": null,
       "prefix": "sampling loop time step",
       "rate": null,
       "total": 200,
       "unit": "it",
       "unit_divisor": 1000,
       "unit_scale": false
      },
      "application/vnd.jupyter.widget-view+json": {
       "model_id": "516e86035bee4dca9721aaff0c2f3fb0",
       "version_major": 2,
       "version_minor": 0
      },
      "text/plain": [
       "sampling loop time step:   0%|          | 0/200 [00:00<?, ?it/s]"
      ]
     },
     "metadata": {},
     "output_type": "display_data"
    },
    {
     "name": "stdout",
     "output_type": "stream",
     "text": [
      "[Epoch:  1 ]\n",
      "Loss: 0.05587462708353996\n",
      "Loss: 0.05933902785181999\n",
      "Loss: 0.05738150328397751\n",
      "Loss: 0.056798823177814484\n",
      "Loss: 0.056439727544784546\n",
      "Loss: 0.05347878858447075\n",
      "Loss: 0.05831405520439148\n",
      "Loss: 0.05457770824432373\n",
      "Loss: 0.05985873565077782\n",
      "Loss: 0.055666565895080566\n",
      "Loss: 0.05119027942419052\n",
      "Loss: 0.05316498875617981\n",
      "Loss: 0.05260448157787323\n",
      "Loss: 0.053823456168174744\n",
      "Loss: 0.04840436577796936\n",
      "Loss: 0.05037812516093254\n"
     ]
    },
    {
     "data": {
      "application/json": {
       "ascii": false,
       "bar_format": null,
       "colour": null,
       "elapsed": 0.010573387145996094,
       "initial": 0,
       "n": 0,
       "ncols": null,
       "nrows": 30,
       "postfix": null,
       "prefix": "sampling loop time step",
       "rate": null,
       "total": 200,
       "unit": "it",
       "unit_divisor": 1000,
       "unit_scale": false
      },
      "application/vnd.jupyter.widget-view+json": {
       "model_id": "81f983f2837b4cc08f15dc47bb660022",
       "version_major": 2,
       "version_minor": 0
      },
      "text/plain": [
       "sampling loop time step:   0%|          | 0/200 [00:00<?, ?it/s]"
      ]
     },
     "metadata": {},
     "output_type": "display_data"
    },
    {
     "name": "stdout",
     "output_type": "stream",
     "text": [
      "[Epoch:  2 ]\n",
      "Loss: 0.04622950404882431\n",
      "Loss: 0.05571245402097702\n",
      "Loss: 0.04914584010839462\n",
      "Loss: 0.044066786766052246\n",
      "Loss: 0.03885859251022339\n",
      "Loss: 0.06370829045772552\n",
      "Loss: 0.04182270169258118\n",
      "Loss: 0.05322524160146713\n",
      "Loss: 0.04171086475253105\n",
      "Loss: 0.043582648038864136\n",
      "Loss: 0.04049929976463318\n",
      "Loss: 0.04745287820696831\n",
      "Loss: 0.050301432609558105\n",
      "Loss: 0.048208869993686676\n",
      "Loss: 0.042792510241270065\n",
      "Loss: 0.039980944246053696\n"
     ]
    },
    {
     "data": {
      "application/json": {
       "ascii": false,
       "bar_format": null,
       "colour": null,
       "elapsed": 0.011014223098754883,
       "initial": 0,
       "n": 0,
       "ncols": null,
       "nrows": 30,
       "postfix": null,
       "prefix": "sampling loop time step",
       "rate": null,
       "total": 200,
       "unit": "it",
       "unit_divisor": 1000,
       "unit_scale": false
      },
      "application/vnd.jupyter.widget-view+json": {
       "model_id": "1ac3e8eb8694491dbbcf8d2866d0a00a",
       "version_major": 2,
       "version_minor": 0
      },
      "text/plain": [
       "sampling loop time step:   0%|          | 0/200 [00:00<?, ?it/s]"
      ]
     },
     "metadata": {},
     "output_type": "display_data"
    },
    {
     "name": "stdout",
     "output_type": "stream",
     "text": [
      "[Epoch:  3 ]\n",
      "Loss: 0.042888715863227844\n",
      "Loss: 0.04144928604364395\n",
      "Loss: 0.034275516867637634\n",
      "Loss: 0.03826592490077019\n",
      "Loss: 0.03757404908537865\n",
      "Loss: 0.047401078045368195\n",
      "Loss: 0.04137265309691429\n",
      "Loss: 0.04220224544405937\n",
      "Loss: 0.03857794404029846\n",
      "Loss: 0.05207204073667526\n",
      "Loss: 0.039569586515426636\n",
      "Loss: 0.040067944675683975\n",
      "Loss: 0.04086624085903168\n",
      "Loss: 0.0418623685836792\n",
      "Loss: 0.0356936901807785\n",
      "Loss: 0.03795633465051651\n"
     ]
    },
    {
     "data": {
      "application/json": {
       "ascii": false,
       "bar_format": null,
       "colour": null,
       "elapsed": 0.010496377944946289,
       "initial": 0,
       "n": 0,
       "ncols": null,
       "nrows": 30,
       "postfix": null,
       "prefix": "sampling loop time step",
       "rate": null,
       "total": 200,
       "unit": "it",
       "unit_divisor": 1000,
       "unit_scale": false
      },
      "application/vnd.jupyter.widget-view+json": {
       "model_id": "52c2a47d7be94e0eaed902d8969fe039",
       "version_major": 2,
       "version_minor": 0
      },
      "text/plain": [
       "sampling loop time step:   0%|          | 0/200 [00:00<?, ?it/s]"
      ]
     },
     "metadata": {},
     "output_type": "display_data"
    },
    {
     "name": "stdout",
     "output_type": "stream",
     "text": [
      "[Epoch:  4 ]\n",
      "Loss: 0.034213002771139145\n",
      "Loss: 0.041322533041238785\n",
      "Loss: 0.03415563702583313\n",
      "Loss: 0.03721075505018234\n",
      "Loss: 0.045628976076841354\n",
      "Loss: 0.04578140377998352\n",
      "Loss: 0.03680534288287163\n",
      "Loss: 0.043111853301525116\n",
      "Loss: 0.049042411148548126\n",
      "Loss: 0.03344924747943878\n",
      "Loss: 0.03749864920973778\n",
      "Loss: 0.03719373419880867\n",
      "Loss: 0.03389190137386322\n",
      "Loss: 0.033420078456401825\n",
      "Loss: 0.04291260242462158\n",
      "Loss: 0.033549100160598755\n"
     ]
    },
    {
     "data": {
      "application/json": {
       "ascii": false,
       "bar_format": null,
       "colour": null,
       "elapsed": 0.010557413101196289,
       "initial": 0,
       "n": 0,
       "ncols": null,
       "nrows": 30,
       "postfix": null,
       "prefix": "sampling loop time step",
       "rate": null,
       "total": 200,
       "unit": "it",
       "unit_divisor": 1000,
       "unit_scale": false
      },
      "application/vnd.jupyter.widget-view+json": {
       "model_id": "6c2d092d187740548affb2429139b9fa",
       "version_major": 2,
       "version_minor": 0
      },
      "text/plain": [
       "sampling loop time step:   0%|          | 0/200 [00:00<?, ?it/s]"
      ]
     },
     "metadata": {},
     "output_type": "display_data"
    },
    {
     "name": "stdout",
     "output_type": "stream",
     "text": [
      "[Epoch:  5 ]\n",
      "Loss: 0.03370371460914612\n",
      "Loss: 0.03953827917575836\n",
      "Loss: 0.035650476813316345\n",
      "Loss: 0.04185596853494644\n",
      "Loss: 0.03999600559473038\n",
      "Loss: 0.04098397120833397\n",
      "Loss: 0.036356061697006226\n",
      "Loss: 0.040988028049468994\n",
      "Loss: 0.037214331328868866\n",
      "Loss: 0.03226311504840851\n",
      "Loss: 0.033520493656396866\n",
      "Loss: 0.030510809272527695\n",
      "Loss: 0.042559683322906494\n",
      "Loss: 0.032904960215091705\n",
      "Loss: 0.031482405960559845\n",
      "Loss: 0.029564393684267998\n"
     ]
    },
    {
     "data": {
      "application/json": {
       "ascii": false,
       "bar_format": null,
       "colour": null,
       "elapsed": 0.011042118072509766,
       "initial": 0,
       "n": 0,
       "ncols": null,
       "nrows": 30,
       "postfix": null,
       "prefix": "sampling loop time step",
       "rate": null,
       "total": 200,
       "unit": "it",
       "unit_divisor": 1000,
       "unit_scale": false
      },
      "application/vnd.jupyter.widget-view+json": {
       "model_id": "a9660f9caa254f9e827a4c7ec9c8423a",
       "version_major": 2,
       "version_minor": 0
      },
      "text/plain": [
       "sampling loop time step:   0%|          | 0/200 [00:00<?, ?it/s]"
      ]
     },
     "metadata": {},
     "output_type": "display_data"
    },
    {
     "name": "stdout",
     "output_type": "stream",
     "text": [
      "[Epoch:  6 ]\n",
      "Loss: 0.03910107538104057\n",
      "Loss: 0.03168823570013046\n",
      "Loss: 0.03369779884815216\n",
      "Loss: 0.037405192852020264\n",
      "Loss: 0.03257650136947632\n",
      "Loss: 0.0411662831902504\n",
      "Loss: 0.03153528273105621\n",
      "Loss: 0.02990768849849701\n",
      "Loss: 0.03228328004479408\n",
      "Loss: 0.02974379062652588\n",
      "Loss: 0.03137023746967316\n",
      "Loss: 0.03126496449112892\n",
      "Loss: 0.03876145929098129\n",
      "Loss: 0.037170346826314926\n",
      "Loss: 0.039818573743104935\n",
      "Loss: 0.03179410099983215\n"
     ]
    },
    {
     "data": {
      "application/json": {
       "ascii": false,
       "bar_format": null,
       "colour": null,
       "elapsed": 0.010484457015991211,
       "initial": 0,
       "n": 0,
       "ncols": null,
       "nrows": 30,
       "postfix": null,
       "prefix": "sampling loop time step",
       "rate": null,
       "total": 200,
       "unit": "it",
       "unit_divisor": 1000,
       "unit_scale": false
      },
      "application/vnd.jupyter.widget-view+json": {
       "model_id": "37415cdfdfe749af8f9255bf159e4e9f",
       "version_major": 2,
       "version_minor": 0
      },
      "text/plain": [
       "sampling loop time step:   0%|          | 0/200 [00:00<?, ?it/s]"
      ]
     },
     "metadata": {},
     "output_type": "display_data"
    },
    {
     "name": "stdout",
     "output_type": "stream",
     "text": [
      "[Epoch:  7 ]\n",
      "Loss: 0.03302513808012009\n",
      "Loss: 0.039097677916288376\n",
      "Loss: 0.041551798582077026\n",
      "Loss: 0.03942235931754112\n",
      "Loss: 0.02608368545770645\n",
      "Loss: 0.033814117312431335\n",
      "Loss: 0.032627176493406296\n",
      "Loss: 0.04227922111749649\n",
      "Loss: 0.03638163208961487\n",
      "Loss: 0.03329925239086151\n",
      "Loss: 0.03288405388593674\n",
      "Loss: 0.028322098776698112\n",
      "Loss: 0.03520959988236427\n",
      "Loss: 0.034395307302474976\n",
      "Loss: 0.03564566746354103\n",
      "Loss: 0.03452295809984207\n"
     ]
    },
    {
     "data": {
      "application/json": {
       "ascii": false,
       "bar_format": null,
       "colour": null,
       "elapsed": 0.010448455810546875,
       "initial": 0,
       "n": 0,
       "ncols": null,
       "nrows": 30,
       "postfix": null,
       "prefix": "sampling loop time step",
       "rate": null,
       "total": 200,
       "unit": "it",
       "unit_divisor": 1000,
       "unit_scale": false
      },
      "application/vnd.jupyter.widget-view+json": {
       "model_id": "735eaf877759435dae6241ab787ba8be",
       "version_major": 2,
       "version_minor": 0
      },
      "text/plain": [
       "sampling loop time step:   0%|          | 0/200 [00:00<?, ?it/s]"
      ]
     },
     "metadata": {},
     "output_type": "display_data"
    },
    {
     "name": "stdout",
     "output_type": "stream",
     "text": [
      "[Epoch:  8 ]\n",
      "Loss: 0.037354450672864914\n",
      "Loss: 0.04065537452697754\n",
      "Loss: 0.025410648435354233\n",
      "Loss: 0.03472507745027542\n",
      "Loss: 0.040536463260650635\n",
      "Loss: 0.028973281383514404\n",
      "Loss: 0.035072628408670425\n",
      "Loss: 0.03417282551527023\n",
      "Loss: 0.031375590711832047\n",
      "Loss: 0.0270460844039917\n",
      "Loss: 0.032590750604867935\n",
      "Loss: 0.02951333485543728\n",
      "Loss: 0.030402909964323044\n",
      "Loss: 0.030306508764624596\n",
      "Loss: 0.03719062730669975\n",
      "Loss: 0.0310077928006649\n"
     ]
    },
    {
     "data": {
      "application/json": {
       "ascii": false,
       "bar_format": null,
       "colour": null,
       "elapsed": 0.010819673538208008,
       "initial": 0,
       "n": 0,
       "ncols": null,
       "nrows": 30,
       "postfix": null,
       "prefix": "sampling loop time step",
       "rate": null,
       "total": 200,
       "unit": "it",
       "unit_divisor": 1000,
       "unit_scale": false
      },
      "application/vnd.jupyter.widget-view+json": {
       "model_id": "21532a030d764ceba168a04c9a91b4ce",
       "version_major": 2,
       "version_minor": 0
      },
      "text/plain": [
       "sampling loop time step:   0%|          | 0/200 [00:00<?, ?it/s]"
      ]
     },
     "metadata": {},
     "output_type": "display_data"
    },
    {
     "name": "stdout",
     "output_type": "stream",
     "text": [
      "[Epoch:  9 ]\n",
      "Loss: 0.02814333513379097\n",
      "Loss: 0.02794669382274151\n",
      "Loss: 0.03377365693449974\n",
      "Loss: 0.0332072377204895\n",
      "Loss: 0.03361247479915619\n",
      "Loss: 0.029631799086928368\n",
      "Loss: 0.03467816859483719\n",
      "Loss: 0.03507073223590851\n",
      "Loss: 0.029634084552526474\n",
      "Loss: 0.029041117057204247\n",
      "Loss: 0.031383976340293884\n",
      "Loss: 0.03559255599975586\n",
      "Loss: 0.03324652090668678\n",
      "Loss: 0.033079516142606735\n",
      "Loss: 0.029165765270590782\n",
      "Loss: 0.033434849232435226\n"
     ]
    },
    {
     "data": {
      "application/json": {
       "ascii": false,
       "bar_format": null,
       "colour": null,
       "elapsed": 0.010746240615844727,
       "initial": 0,
       "n": 0,
       "ncols": null,
       "nrows": 30,
       "postfix": null,
       "prefix": "sampling loop time step",
       "rate": null,
       "total": 200,
       "unit": "it",
       "unit_divisor": 1000,
       "unit_scale": false
      },
      "application/vnd.jupyter.widget-view+json": {
       "model_id": "a6c2921f623a426fafc770160dcac4d6",
       "version_major": 2,
       "version_minor": 0
      },
      "text/plain": [
       "sampling loop time step:   0%|          | 0/200 [00:00<?, ?it/s]"
      ]
     },
     "metadata": {},
     "output_type": "display_data"
    },
    {
     "name": "stdout",
     "output_type": "stream",
     "text": [
      "[Epoch:  10 ]\n",
      "Loss: 0.030966326594352722\n",
      "Loss: 0.03565663844347\n",
      "Loss: 0.040534645318984985\n",
      "Loss: 0.03325639292597771\n",
      "Loss: 0.03468463197350502\n",
      "Loss: 0.041082777082920074\n",
      "Loss: 0.031672608107328415\n",
      "Loss: 0.036304667592048645\n",
      "Loss: 0.03297542780637741\n",
      "Loss: 0.027085652574896812\n",
      "Loss: 0.029111821204423904\n",
      "Loss: 0.03318238630890846\n",
      "Loss: 0.03340039402246475\n",
      "Loss: 0.033579036593437195\n",
      "Loss: 0.03818975389003754\n",
      "Loss: 0.034985266625881195\n"
     ]
    },
    {
     "data": {
      "application/json": {
       "ascii": false,
       "bar_format": null,
       "colour": null,
       "elapsed": 0.010776042938232422,
       "initial": 0,
       "n": 0,
       "ncols": null,
       "nrows": 30,
       "postfix": null,
       "prefix": "sampling loop time step",
       "rate": null,
       "total": 200,
       "unit": "it",
       "unit_divisor": 1000,
       "unit_scale": false
      },
      "application/vnd.jupyter.widget-view+json": {
       "model_id": "347d2bef78cb4a4daea3070422445db3",
       "version_major": 2,
       "version_minor": 0
      },
      "text/plain": [
       "sampling loop time step:   0%|          | 0/200 [00:00<?, ?it/s]"
      ]
     },
     "metadata": {},
     "output_type": "display_data"
    },
    {
     "name": "stdout",
     "output_type": "stream",
     "text": [
      "[Epoch:  11 ]\n",
      "Loss: 0.03420855849981308\n",
      "Loss: 0.03180614113807678\n",
      "Loss: 0.02923118881881237\n",
      "Loss: 0.04069078713655472\n",
      "Loss: 0.030133571475744247\n",
      "Loss: 0.03690316900610924\n",
      "Loss: 0.03767233341932297\n",
      "Loss: 0.026253409683704376\n",
      "Loss: 0.02927173674106598\n",
      "Loss: 0.036359988152980804\n",
      "Loss: 0.03888537734746933\n",
      "Loss: 0.030379129573702812\n",
      "Loss: 0.03344089537858963\n",
      "Loss: 0.03405977413058281\n",
      "Loss: 0.04065204784274101\n",
      "Loss: 0.037965282797813416\n"
     ]
    },
    {
     "data": {
      "application/json": {
       "ascii": false,
       "bar_format": null,
       "colour": null,
       "elapsed": 0.010543346405029297,
       "initial": 0,
       "n": 0,
       "ncols": null,
       "nrows": 30,
       "postfix": null,
       "prefix": "sampling loop time step",
       "rate": null,
       "total": 200,
       "unit": "it",
       "unit_divisor": 1000,
       "unit_scale": false
      },
      "application/vnd.jupyter.widget-view+json": {
       "model_id": "9c7d22ac3adf4595ae7f401482add827",
       "version_major": 2,
       "version_minor": 0
      },
      "text/plain": [
       "sampling loop time step:   0%|          | 0/200 [00:00<?, ?it/s]"
      ]
     },
     "metadata": {},
     "output_type": "display_data"
    },
    {
     "name": "stdout",
     "output_type": "stream",
     "text": [
      "[Epoch:  12 ]\n",
      "Loss: 0.027639511972665787\n",
      "Loss: 0.03262786567211151\n",
      "Loss: 0.0316472202539444\n",
      "Loss: 0.03453810140490532\n",
      "Loss: 0.026405028998851776\n",
      "Loss: 0.03153306245803833\n",
      "Loss: 0.030661311000585556\n",
      "Loss: 0.03386388346552849\n",
      "Loss: 0.030249666422605515\n",
      "Loss: 0.03257549926638603\n",
      "Loss: 0.030939143151044846\n",
      "Loss: 0.03977612406015396\n",
      "Loss: 0.03530101478099823\n",
      "Loss: 0.030460050329566002\n",
      "Loss: 0.035352230072021484\n",
      "Loss: 0.029655691236257553\n"
     ]
    },
    {
     "data": {
      "application/json": {
       "ascii": false,
       "bar_format": null,
       "colour": null,
       "elapsed": 0.011210441589355469,
       "initial": 0,
       "n": 0,
       "ncols": null,
       "nrows": 30,
       "postfix": null,
       "prefix": "sampling loop time step",
       "rate": null,
       "total": 200,
       "unit": "it",
       "unit_divisor": 1000,
       "unit_scale": false
      },
      "application/vnd.jupyter.widget-view+json": {
       "model_id": "01852509fb9b42d29359f954e4a8c59e",
       "version_major": 2,
       "version_minor": 0
      },
      "text/plain": [
       "sampling loop time step:   0%|          | 0/200 [00:00<?, ?it/s]"
      ]
     },
     "metadata": {},
     "output_type": "display_data"
    },
    {
     "name": "stdout",
     "output_type": "stream",
     "text": [
      "[Epoch:  13 ]\n",
      "Loss: 0.0251278355717659\n",
      "Loss: 0.0316007062792778\n",
      "Loss: 0.04104849323630333\n",
      "Loss: 0.027833130210638046\n",
      "Loss: 0.03409386798739433\n",
      "Loss: 0.031547028571367264\n",
      "Loss: 0.027313580736517906\n",
      "Loss: 0.031812503933906555\n",
      "Loss: 0.027269272133708\n",
      "Loss: 0.03230656310915947\n",
      "Loss: 0.03490125760436058\n",
      "Loss: 0.030625447630882263\n",
      "Loss: 0.024518607184290886\n",
      "Loss: 0.03200293332338333\n",
      "Loss: 0.027367938309907913\n"
     ]
    }
   ],
   "source": [
    "from torchvision.utils import save_image\n",
    "\n",
    "epochs = 50\n",
    "lr = 1e-4\n",
    "optimizer = Adam(model.parameters(), lr=lr)\n",
    "\n",
    "hyperparameters = dict(\n",
    "    epochs = epochs,\n",
    "    noise_steps = steps,\n",
    "    batch_size = batch_size,\n",
    "    img_size = img_size,\n",
    "    learning_rate = lr,\n",
    "    beta_schedule = beta_schedule,\n",
    "    dataset = 'CelebA',\n",
    "    device = device,\n",
    "    use_convnext = use_convnext,\n",
    "    loss_type=\"huber\"\n",
    ")\n",
    "\n",
    "# Create folder for run\n",
    "results_folder = Path(\"./results/imgs_\" + datetime.now().strftime('%Y-%m-%d_%H-%M-%S'))\n",
    "results_folder.mkdir(exist_ok = True)\n",
    "\n",
    "# Save hyperparameters to json file\n",
    "with open(str(results_folder / f'hyperparameters.json'), \"w\") as write_file:\n",
    "    json.dump(hyperparameters, write_file, indent=4)\n",
    "display(hyperparameters) \n",
    "\n",
    "# Train\n",
    "train(model, optimizer, hyperparameters)\n",
    "\n",
    "# Save model to results folder\n",
    "torch.save(model.state_dict(), str(results_folder / './model.pth'))"
   ]
  },
  {
   "cell_type": "code",
   "execution_count": null,
   "metadata": {
    "executionInfo": {
     "elapsed": 6,
     "status": "aborted",
     "timestamp": 1666096521913,
     "user": {
      "displayName": "Bernardo Taveira",
      "userId": "12200582985174515986"
     },
     "user_tz": -120
    },
    "id": "e5eZmLorvBzd",
    "pycharm": {
     "name": "#%%\n"
    }
   },
   "outputs": [],
   "source": [
    "samples = sample(model, image_size=img_size, batch_size=10, channels=3)\n",
    "\n",
    "# show a random one\n",
    "ims = [reverse_transform(samples[-1][i]) for i in range(10)]\n",
    "grid = image_grid(ims, rows=2, cols=5)\n",
    "\n",
    "image = Image.new('RGB', size=(img_size*5, img_size*2))\n",
    "image.paste(grid, ( 0, 0, img_size*5, img_size*2))\n",
    "image.resize((32*4*5, 32*4*2), Image.NEAREST)"
   ]
  },
  {
   "cell_type": "code",
   "execution_count": null,
   "metadata": {
    "pycharm": {
     "name": "#%%\n"
    }
   },
   "outputs": [],
   "source": [
    "samples = sample(model, image_size=img_size, batch_size=1, channels=3)\n",
    "\n",
    "# show a random one\n",
    "ims = [reverse_transform(samples[i][0]) for i in range(steps)]\n",
    "\n",
    "ims[0].save(str(results_folder / 'animation.gif'), format='GIF',\n",
    "               append_images=ims[1:], save_all=True, duration=10, loop=0)"
   ]
  }
 ],
 "metadata": {
  "accelerator": "GPU",
  "colab": {
   "authorship_tag": "ABX9TyOSud4hTzInt/BxXZWcr4Kj",
   "collapsed_sections": [],
   "mount_file_id": "1-TjPPNScOUrFAF_-0ylxpD6KPy0WSqpL",
   "provenance": []
  },
  "kernelspec": {
   "display_name": "Python 3 (ipykernel)",
   "language": "python",
   "name": "python3"
  },
  "language_info": {
   "codemirror_mode": {
    "name": "ipython",
    "version": 3
   },
   "file_extension": ".py",
   "mimetype": "text/x-python",
   "name": "python",
   "nbconvert_exporter": "python",
   "pygments_lexer": "ipython3",
   "version": "3.9.13"
  }
 },
 "nbformat": 4,
 "nbformat_minor": 4
}